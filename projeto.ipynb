{
 "cells": [
  {
   "cell_type": "markdown",
   "id": "34346a9d",
   "metadata": {
    "id": "KJqp9AANOCtf",
    "papermill": {
     "duration": 0.010322,
     "end_time": "2023-01-07T16:48:54.633455",
     "exception": false,
     "start_time": "2023-01-07T16:48:54.623133",
     "status": "completed"
    },
    "tags": []
   },
   "source": [
    "<img src=\"https://raw.githubusercontent.com/andre-marcos-perez/ebac-course-utils/main/media/logo/newebac_logo_black_half.png\" alt=\"ebac-logo\">\n",
    "\n",
    "---\n",
    "\n",
    "# **Módulo** | Python: Projeto Final\n",
    "\n",
    "\n",
    "---"
   ]
  },
  {
   "cell_type": "markdown",
   "id": "7f3d989c",
   "metadata": {
    "papermill": {
     "duration": 0.009331,
     "end_time": "2023-01-07T16:48:54.652696",
     "exception": false,
     "start_time": "2023-01-07T16:48:54.643365",
     "status": "completed"
    },
    "tags": []
   },
   "source": [
    " Trabalho proposto para exercitar as técnicas aprendidas durante o curso.\n",
    "\n",
    " Nesta análise vamos explorar dados de créditos, que foram disponibilizados na aula do Projeto Final. Estes dados estão em formato CSV, são dados de clientes de uma instituição financeira, nosso trabalho é analisar e mostrar a partir de dados o que leva um cliente a se tornar inadimplente.\n",
    " Para fins de conhecimento, o campo default é o que determina se o cliente é adimplente ou inadimplente. Quando o campo default, estiver preenchido com 0 é adimplente e 1 é inadimplente.\n"
   ]
  },
  {
   "cell_type": "markdown",
   "id": "9f482b27",
   "metadata": {
    "id": "SmoHgt-lwkpD",
    "papermill": {
     "duration": 0.011445,
     "end_time": "2023-01-07T16:48:54.674080",
     "exception": false,
     "start_time": "2023-01-07T16:48:54.662635",
     "status": "completed"
    },
    "tags": []
   },
   "source": [
    "---"
   ]
  },
  {
   "cell_type": "markdown",
   "id": "50d1c213",
   "metadata": {
    "papermill": {
     "duration": 0.00942,
     "end_time": "2023-01-07T16:48:54.693363",
     "exception": false,
     "start_time": "2023-01-07T16:48:54.683943",
     "status": "completed"
    },
    "tags": []
   },
   "source": [
    "\n",
    "    Título;\n",
    "    Breve descrição do problema;\n",
    "    Código de importação de bibliotecas;\n",
    "    Código o download/carregamento/geração de dados;\n",
    "    Etapa de exploração;\n",
    "    Etapa de limpeza e transformação;\n",
    "    Etapa de análise (com visualizações);\n",
    "    Resumo dos insights gerados.\n"
   ]
  },
  {
   "cell_type": "markdown",
   "id": "8605a9f1",
   "metadata": {
    "id": "GABI6OW8OfQ2",
    "papermill": {
     "duration": 0.009683,
     "end_time": "2023-01-07T16:48:54.712962",
     "exception": false,
     "start_time": "2023-01-07T16:48:54.703279",
     "status": "completed"
    },
    "tags": []
   },
   "source": [
    "## Importação de Bibliotecas"
   ]
  },
  {
   "cell_type": "code",
   "execution_count": 1,
   "id": "51781794",
   "metadata": {
    "execution": {
     "iopub.execute_input": "2023-01-07T16:48:54.737059Z",
     "iopub.status.busy": "2023-01-07T16:48:54.736437Z",
     "iopub.status.idle": "2023-01-07T16:48:55.959913Z",
     "shell.execute_reply": "2023-01-07T16:48:55.958446Z"
    },
    "papermill": {
     "duration": 1.238724,
     "end_time": "2023-01-07T16:48:55.963091",
     "exception": false,
     "start_time": "2023-01-07T16:48:54.724367",
     "status": "completed"
    },
    "tags": []
   },
   "outputs": [],
   "source": [
    "import matplotlib.pyplot as plt\n",
    "\n",
    "import pandas as pd\n",
    "import seaborn as sns"
   ]
  },
  {
   "cell_type": "markdown",
   "id": "bea258f3",
   "metadata": {
    "id": "muD1vxozykSC",
    "papermill": {
     "duration": 0.009263,
     "end_time": "2023-01-07T16:48:55.982270",
     "exception": false,
     "start_time": "2023-01-07T16:48:55.973007",
     "status": "completed"
    },
    "tags": []
   },
   "source": [
    "##  Importando banco de dados\n"
   ]
  },
  {
   "cell_type": "code",
   "execution_count": 2,
   "id": "c77d5697",
   "metadata": {
    "execution": {
     "iopub.execute_input": "2023-01-07T16:48:56.003698Z",
     "iopub.status.busy": "2023-01-07T16:48:56.002782Z",
     "iopub.status.idle": "2023-01-07T16:48:56.249468Z",
     "shell.execute_reply": "2023-01-07T16:48:56.247548Z"
    },
    "papermill": {
     "duration": 0.260731,
     "end_time": "2023-01-07T16:48:56.252550",
     "exception": false,
     "start_time": "2023-01-07T16:48:55.991819",
     "status": "completed"
    },
    "tags": []
   },
   "outputs": [],
   "source": [
    "df = pd.read_csv('https://raw.githubusercontent.com/lgrdcmt/ebacpythonfinal/main/Python_M10_support%20material.csv', sep=',', na_values='na')"
   ]
  },
  {
   "cell_type": "markdown",
   "id": "bbea649b",
   "metadata": {
    "papermill": {
     "duration": 0.008554,
     "end_time": "2023-01-07T16:48:56.270271",
     "exception": false,
     "start_time": "2023-01-07T16:48:56.261717",
     "status": "completed"
    },
    "tags": []
   },
   "source": [
    "## Explorando os dados"
   ]
  },
  {
   "cell_type": "code",
   "execution_count": 3,
   "id": "9502e08c",
   "metadata": {
    "execution": {
     "iopub.execute_input": "2023-01-07T16:48:56.291089Z",
     "iopub.status.busy": "2023-01-07T16:48:56.290701Z",
     "iopub.status.idle": "2023-01-07T16:48:56.317227Z",
     "shell.execute_reply": "2023-01-07T16:48:56.316265Z"
    },
    "papermill": {
     "duration": 0.039209,
     "end_time": "2023-01-07T16:48:56.319335",
     "exception": false,
     "start_time": "2023-01-07T16:48:56.280126",
     "status": "completed"
    },
    "tags": []
   },
   "outputs": [
    {
     "data": {
      "text/html": [
       "<div>\n",
       "<style scoped>\n",
       "    .dataframe tbody tr th:only-of-type {\n",
       "        vertical-align: middle;\n",
       "    }\n",
       "\n",
       "    .dataframe tbody tr th {\n",
       "        vertical-align: top;\n",
       "    }\n",
       "\n",
       "    .dataframe thead th {\n",
       "        text-align: right;\n",
       "    }\n",
       "</style>\n",
       "<table border=\"1\" class=\"dataframe\">\n",
       "  <thead>\n",
       "    <tr style=\"text-align: right;\">\n",
       "      <th></th>\n",
       "      <th>id</th>\n",
       "      <th>default</th>\n",
       "      <th>idade</th>\n",
       "      <th>sexo</th>\n",
       "      <th>dependentes</th>\n",
       "      <th>escolaridade</th>\n",
       "      <th>estado_civil</th>\n",
       "      <th>salario_anual</th>\n",
       "      <th>tipo_cartao</th>\n",
       "      <th>meses_de_relacionamento</th>\n",
       "      <th>qtd_produtos</th>\n",
       "      <th>iteracoes_12m</th>\n",
       "      <th>meses_inativo_12m</th>\n",
       "      <th>limite_credito</th>\n",
       "      <th>valor_transacoes_12m</th>\n",
       "      <th>qtd_transacoes_12m</th>\n",
       "    </tr>\n",
       "  </thead>\n",
       "  <tbody>\n",
       "    <tr>\n",
       "      <th>0</th>\n",
       "      <td>768805383</td>\n",
       "      <td>0</td>\n",
       "      <td>45</td>\n",
       "      <td>M</td>\n",
       "      <td>3</td>\n",
       "      <td>ensino medio</td>\n",
       "      <td>casado</td>\n",
       "      <td>$60K - $80K</td>\n",
       "      <td>blue</td>\n",
       "      <td>39</td>\n",
       "      <td>5</td>\n",
       "      <td>3</td>\n",
       "      <td>1</td>\n",
       "      <td>12.691,51</td>\n",
       "      <td>1.144,90</td>\n",
       "      <td>42</td>\n",
       "    </tr>\n",
       "    <tr>\n",
       "      <th>1</th>\n",
       "      <td>818770008</td>\n",
       "      <td>0</td>\n",
       "      <td>49</td>\n",
       "      <td>F</td>\n",
       "      <td>5</td>\n",
       "      <td>mestrado</td>\n",
       "      <td>solteiro</td>\n",
       "      <td>menos que $40K</td>\n",
       "      <td>blue</td>\n",
       "      <td>44</td>\n",
       "      <td>6</td>\n",
       "      <td>2</td>\n",
       "      <td>1</td>\n",
       "      <td>8.256,96</td>\n",
       "      <td>1.291,45</td>\n",
       "      <td>33</td>\n",
       "    </tr>\n",
       "    <tr>\n",
       "      <th>2</th>\n",
       "      <td>713982108</td>\n",
       "      <td>0</td>\n",
       "      <td>51</td>\n",
       "      <td>M</td>\n",
       "      <td>3</td>\n",
       "      <td>mestrado</td>\n",
       "      <td>casado</td>\n",
       "      <td>$80K - $120K</td>\n",
       "      <td>blue</td>\n",
       "      <td>36</td>\n",
       "      <td>4</td>\n",
       "      <td>0</td>\n",
       "      <td>1</td>\n",
       "      <td>3.418,56</td>\n",
       "      <td>1.887,72</td>\n",
       "      <td>20</td>\n",
       "    </tr>\n",
       "    <tr>\n",
       "      <th>3</th>\n",
       "      <td>769911858</td>\n",
       "      <td>0</td>\n",
       "      <td>40</td>\n",
       "      <td>F</td>\n",
       "      <td>4</td>\n",
       "      <td>ensino medio</td>\n",
       "      <td>NaN</td>\n",
       "      <td>menos que $40K</td>\n",
       "      <td>blue</td>\n",
       "      <td>34</td>\n",
       "      <td>3</td>\n",
       "      <td>1</td>\n",
       "      <td>4</td>\n",
       "      <td>3.313,03</td>\n",
       "      <td>1.171,56</td>\n",
       "      <td>20</td>\n",
       "    </tr>\n",
       "    <tr>\n",
       "      <th>4</th>\n",
       "      <td>709106358</td>\n",
       "      <td>0</td>\n",
       "      <td>40</td>\n",
       "      <td>M</td>\n",
       "      <td>3</td>\n",
       "      <td>sem educacao formal</td>\n",
       "      <td>casado</td>\n",
       "      <td>$60K - $80K</td>\n",
       "      <td>blue</td>\n",
       "      <td>21</td>\n",
       "      <td>5</td>\n",
       "      <td>0</td>\n",
       "      <td>1</td>\n",
       "      <td>4.716,22</td>\n",
       "      <td>816,08</td>\n",
       "      <td>28</td>\n",
       "    </tr>\n",
       "    <tr>\n",
       "      <th>5</th>\n",
       "      <td>713061558</td>\n",
       "      <td>0</td>\n",
       "      <td>44</td>\n",
       "      <td>M</td>\n",
       "      <td>2</td>\n",
       "      <td>mestrado</td>\n",
       "      <td>casado</td>\n",
       "      <td>$40K - $60K</td>\n",
       "      <td>blue</td>\n",
       "      <td>36</td>\n",
       "      <td>3</td>\n",
       "      <td>2</td>\n",
       "      <td>1</td>\n",
       "      <td>4.010,69</td>\n",
       "      <td>1.088,07</td>\n",
       "      <td>24</td>\n",
       "    </tr>\n",
       "    <tr>\n",
       "      <th>6</th>\n",
       "      <td>810347208</td>\n",
       "      <td>0</td>\n",
       "      <td>51</td>\n",
       "      <td>M</td>\n",
       "      <td>4</td>\n",
       "      <td>NaN</td>\n",
       "      <td>casado</td>\n",
       "      <td>$120K +</td>\n",
       "      <td>gold</td>\n",
       "      <td>46</td>\n",
       "      <td>6</td>\n",
       "      <td>3</td>\n",
       "      <td>1</td>\n",
       "      <td>34.516,72</td>\n",
       "      <td>1.330,87</td>\n",
       "      <td>31</td>\n",
       "    </tr>\n",
       "    <tr>\n",
       "      <th>7</th>\n",
       "      <td>818906208</td>\n",
       "      <td>0</td>\n",
       "      <td>32</td>\n",
       "      <td>M</td>\n",
       "      <td>0</td>\n",
       "      <td>ensino medio</td>\n",
       "      <td>NaN</td>\n",
       "      <td>$60K - $80K</td>\n",
       "      <td>silver</td>\n",
       "      <td>27</td>\n",
       "      <td>2</td>\n",
       "      <td>2</td>\n",
       "      <td>2</td>\n",
       "      <td>29.081,49</td>\n",
       "      <td>1.538,32</td>\n",
       "      <td>36</td>\n",
       "    </tr>\n",
       "    <tr>\n",
       "      <th>8</th>\n",
       "      <td>710930508</td>\n",
       "      <td>0</td>\n",
       "      <td>37</td>\n",
       "      <td>M</td>\n",
       "      <td>3</td>\n",
       "      <td>sem educacao formal</td>\n",
       "      <td>solteiro</td>\n",
       "      <td>$60K - $80K</td>\n",
       "      <td>blue</td>\n",
       "      <td>36</td>\n",
       "      <td>5</td>\n",
       "      <td>0</td>\n",
       "      <td>2</td>\n",
       "      <td>22.352,50</td>\n",
       "      <td>1.350,14</td>\n",
       "      <td>24</td>\n",
       "    </tr>\n",
       "    <tr>\n",
       "      <th>9</th>\n",
       "      <td>719661558</td>\n",
       "      <td>0</td>\n",
       "      <td>48</td>\n",
       "      <td>M</td>\n",
       "      <td>2</td>\n",
       "      <td>mestrado</td>\n",
       "      <td>solteiro</td>\n",
       "      <td>$80K - $120K</td>\n",
       "      <td>blue</td>\n",
       "      <td>36</td>\n",
       "      <td>6</td>\n",
       "      <td>3</td>\n",
       "      <td>3</td>\n",
       "      <td>11.656,41</td>\n",
       "      <td>1.441,73</td>\n",
       "      <td>32</td>\n",
       "    </tr>\n",
       "  </tbody>\n",
       "</table>\n",
       "</div>"
      ],
      "text/plain": [
       "          id  default  idade sexo  dependentes         escolaridade  \\\n",
       "0  768805383        0     45    M            3         ensino medio   \n",
       "1  818770008        0     49    F            5             mestrado   \n",
       "2  713982108        0     51    M            3             mestrado   \n",
       "3  769911858        0     40    F            4         ensino medio   \n",
       "4  709106358        0     40    M            3  sem educacao formal   \n",
       "5  713061558        0     44    M            2             mestrado   \n",
       "6  810347208        0     51    M            4                  NaN   \n",
       "7  818906208        0     32    M            0         ensino medio   \n",
       "8  710930508        0     37    M            3  sem educacao formal   \n",
       "9  719661558        0     48    M            2             mestrado   \n",
       "\n",
       "  estado_civil   salario_anual tipo_cartao  meses_de_relacionamento  \\\n",
       "0       casado     $60K - $80K        blue                       39   \n",
       "1     solteiro  menos que $40K        blue                       44   \n",
       "2       casado    $80K - $120K        blue                       36   \n",
       "3          NaN  menos que $40K        blue                       34   \n",
       "4       casado     $60K - $80K        blue                       21   \n",
       "5       casado     $40K - $60K        blue                       36   \n",
       "6       casado         $120K +        gold                       46   \n",
       "7          NaN     $60K - $80K      silver                       27   \n",
       "8     solteiro     $60K - $80K        blue                       36   \n",
       "9     solteiro    $80K - $120K        blue                       36   \n",
       "\n",
       "   qtd_produtos  iteracoes_12m  meses_inativo_12m limite_credito  \\\n",
       "0             5              3                  1      12.691,51   \n",
       "1             6              2                  1       8.256,96   \n",
       "2             4              0                  1       3.418,56   \n",
       "3             3              1                  4       3.313,03   \n",
       "4             5              0                  1       4.716,22   \n",
       "5             3              2                  1       4.010,69   \n",
       "6             6              3                  1      34.516,72   \n",
       "7             2              2                  2      29.081,49   \n",
       "8             5              0                  2      22.352,50   \n",
       "9             6              3                  3      11.656,41   \n",
       "\n",
       "  valor_transacoes_12m  qtd_transacoes_12m  \n",
       "0             1.144,90                  42  \n",
       "1             1.291,45                  33  \n",
       "2             1.887,72                  20  \n",
       "3             1.171,56                  20  \n",
       "4               816,08                  28  \n",
       "5             1.088,07                  24  \n",
       "6             1.330,87                  31  \n",
       "7             1.538,32                  36  \n",
       "8             1.350,14                  24  \n",
       "9             1.441,73                  32  "
      ]
     },
     "execution_count": 3,
     "metadata": {},
     "output_type": "execute_result"
    }
   ],
   "source": [
    "df.head(n=10)"
   ]
  },
  {
   "cell_type": "markdown",
   "id": "342d0b2d",
   "metadata": {
    "papermill": {
     "duration": 0.00908,
     "end_time": "2023-01-07T16:48:56.337862",
     "exception": false,
     "start_time": "2023-01-07T16:48:56.328782",
     "status": "completed"
    },
    "tags": []
   },
   "source": [
    "* Abaixo temos uma tabela com todos os respectivos dados"
   ]
  },
  {
   "cell_type": "markdown",
   "id": "eb2f734b",
   "metadata": {
    "papermill": {
     "duration": 0.010295,
     "end_time": "2023-01-07T16:48:56.357724",
     "exception": false,
     "start_time": "2023-01-07T16:48:56.347429",
     "status": "completed"
    },
    "tags": []
   },
   "source": [
    "| Coluna  | Descrição |\n",
    "| ------- | --------- |\n",
    "| id      | Número da conta |\n",
    "| default | Indica se o cliente é adimplente (0) ou inadimplente (1) |\n",
    "| idade   | --- |\n",
    "| sexo    | --- |\n",
    "| depedentes | --- |\n",
    "| escolaridade | --- |\n",
    "| estado_civil | --- |\n",
    "| salario_anual | Faixa do salario mensal multiplicado por 12 |\n",
    "| tipo_cartao | Categoria do cartao: blue, silver, gold e platinium |\n",
    "| meses_de_relacionamento | Quantidade de meses desde a abertura da conta |\n",
    "| qtd_produtos | Quantidade de produtos contratados |\n",
    "| iteracoes_12m | Quantidade de iteracoes com o cliente no último ano |\n",
    "| meses_inatico_12m | Quantidade de meses que o cliente ficou inativo no último ano |\n",
    "| limite_credito | Valor do limite do cartão de crédito |\n",
    "| valor_transacoes_12m | Soma total do valor das transações no cartão de crédito no último ano |\n",
    "| qtd_transacoes_12m | Quantidade total de transações no cartão de crédito no último ano |"
   ]
  },
  {
   "cell_type": "markdown",
   "id": "276f4c5b",
   "metadata": {
    "papermill": {
     "duration": 0.00979,
     "end_time": "2023-01-07T16:48:56.377474",
     "exception": false,
     "start_time": "2023-01-07T16:48:56.367684",
     "status": "completed"
    },
    "tags": []
   },
   "source": [
    "* Verificando a quantidade de registros e colunas"
   ]
  },
  {
   "cell_type": "code",
   "execution_count": 4,
   "id": "0ead4a80",
   "metadata": {
    "execution": {
     "iopub.execute_input": "2023-01-07T16:48:56.399035Z",
     "iopub.status.busy": "2023-01-07T16:48:56.398590Z",
     "iopub.status.idle": "2023-01-07T16:48:56.405257Z",
     "shell.execute_reply": "2023-01-07T16:48:56.403919Z"
    },
    "papermill": {
     "duration": 0.020933,
     "end_time": "2023-01-07T16:48:56.408312",
     "exception": false,
     "start_time": "2023-01-07T16:48:56.387379",
     "status": "completed"
    },
    "tags": []
   },
   "outputs": [
    {
     "data": {
      "text/plain": [
       "(10127, 16)"
      ]
     },
     "execution_count": 4,
     "metadata": {},
     "output_type": "execute_result"
    }
   ],
   "source": [
    "df.shape"
   ]
  },
  {
   "cell_type": "markdown",
   "id": "4dafdcd6",
   "metadata": {
    "papermill": {
     "duration": 0.009175,
     "end_time": "2023-01-07T16:48:56.427326",
     "exception": false,
     "start_time": "2023-01-07T16:48:56.418151",
     "status": "completed"
    },
    "tags": []
   },
   "source": [
    "* Verificando a quantidade de registros adimplentes e inadimplentes\n"
   ]
  },
  {
   "cell_type": "code",
   "execution_count": 5,
   "id": "a6685f4d",
   "metadata": {
    "execution": {
     "iopub.execute_input": "2023-01-07T16:48:56.448398Z",
     "iopub.status.busy": "2023-01-07T16:48:56.447765Z",
     "iopub.status.idle": "2023-01-07T16:48:56.464479Z",
     "shell.execute_reply": "2023-01-07T16:48:56.462294Z"
    },
    "papermill": {
     "duration": 0.031395,
     "end_time": "2023-01-07T16:48:56.468216",
     "exception": false,
     "start_time": "2023-01-07T16:48:56.436821",
     "status": "completed"
    },
    "tags": []
   },
   "outputs": [
    {
     "name": "stdout",
     "output_type": "stream",
     "text": [
      "A proporção de clientes adimplentes é de 83.93%\n",
      "A proporção de clientes inadimplentes é de 16.07%\n"
     ]
    }
   ],
   "source": [
    "qtd_total,_ = df.shape\n",
    "qtd_adimplentes,_ = df[df['default'] == 0].shape\n",
    "qtd_inadimplentes,_ = df[df['default'] == 1].shape\n",
    "\n",
    "print(f'A proporção de clientes adimplentes é de {round(100 * qtd_adimplentes / qtd_total, 2)}%')\n",
    "print(f'A proporção de clientes inadimplentes é de {round(100* qtd_inadimplentes / qtd_total,2)}%')"
   ]
  },
  {
   "cell_type": "markdown",
   "id": "fd827739",
   "metadata": {
    "papermill": {
     "duration": 0.009316,
     "end_time": "2023-01-07T16:48:56.488437",
     "exception": false,
     "start_time": "2023-01-07T16:48:56.479121",
     "status": "completed"
    },
    "tags": []
   },
   "source": [
    "* Verificando os tipos de dados de cada coluna\n"
   ]
  },
  {
   "cell_type": "code",
   "execution_count": 6,
   "id": "944ad5f2",
   "metadata": {
    "execution": {
     "iopub.execute_input": "2023-01-07T16:48:56.509620Z",
     "iopub.status.busy": "2023-01-07T16:48:56.509204Z",
     "iopub.status.idle": "2023-01-07T16:48:56.517906Z",
     "shell.execute_reply": "2023-01-07T16:48:56.517034Z"
    },
    "papermill": {
     "duration": 0.022098,
     "end_time": "2023-01-07T16:48:56.520232",
     "exception": false,
     "start_time": "2023-01-07T16:48:56.498134",
     "status": "completed"
    },
    "tags": []
   },
   "outputs": [
    {
     "data": {
      "text/plain": [
       "id                          int64\n",
       "default                     int64\n",
       "idade                       int64\n",
       "sexo                       object\n",
       "dependentes                 int64\n",
       "escolaridade               object\n",
       "estado_civil               object\n",
       "salario_anual              object\n",
       "tipo_cartao                object\n",
       "meses_de_relacionamento     int64\n",
       "qtd_produtos                int64\n",
       "iteracoes_12m               int64\n",
       "meses_inativo_12m           int64\n",
       "limite_credito             object\n",
       "valor_transacoes_12m       object\n",
       "qtd_transacoes_12m          int64\n",
       "dtype: object"
      ]
     },
     "execution_count": 6,
     "metadata": {},
     "output_type": "execute_result"
    }
   ],
   "source": [
    "df.dtypes"
   ]
  },
  {
   "cell_type": "markdown",
   "id": "a7a1084b",
   "metadata": {
    "papermill": {
     "duration": 0.010001,
     "end_time": "2023-01-07T16:48:56.541242",
     "exception": false,
     "start_time": "2023-01-07T16:48:56.531241",
     "status": "completed"
    },
    "tags": []
   },
   "source": [
    "## Limpeza e Transformação dos dados"
   ]
  },
  {
   "cell_type": "markdown",
   "id": "35ca742e",
   "metadata": {
    "papermill": {
     "duration": 0.009424,
     "end_time": "2023-01-07T16:48:56.560797",
     "exception": false,
     "start_time": "2023-01-07T16:48:56.551373",
     "status": "completed"
    },
    "tags": []
   },
   "source": [
    "* Removendo dados que já foram analisados em aula."
   ]
  },
  {
   "cell_type": "code",
   "execution_count": 7,
   "id": "e74a2c0e",
   "metadata": {
    "execution": {
     "iopub.execute_input": "2023-01-07T16:48:56.582826Z",
     "iopub.status.busy": "2023-01-07T16:48:56.582026Z",
     "iopub.status.idle": "2023-01-07T16:48:56.599060Z",
     "shell.execute_reply": "2023-01-07T16:48:56.598047Z"
    },
    "papermill": {
     "duration": 0.031856,
     "end_time": "2023-01-07T16:48:56.602492",
     "exception": false,
     "start_time": "2023-01-07T16:48:56.570636",
     "status": "completed"
    },
    "tags": []
   },
   "outputs": [],
   "source": [
    "df = df.drop('id', axis = 1)\n",
    "df = df.drop('sexo', axis = 1)\n",
    "df = df.drop('escolaridade', axis = 1)\n",
    "df = df.drop('salario_anual', axis = 1)"
   ]
  },
  {
   "cell_type": "code",
   "execution_count": 8,
   "id": "49cfcfc6",
   "metadata": {
    "execution": {
     "iopub.execute_input": "2023-01-07T16:48:56.626824Z",
     "iopub.status.busy": "2023-01-07T16:48:56.626380Z",
     "iopub.status.idle": "2023-01-07T16:48:56.638956Z",
     "shell.execute_reply": "2023-01-07T16:48:56.637300Z"
    },
    "papermill": {
     "duration": 0.028089,
     "end_time": "2023-01-07T16:48:56.642324",
     "exception": false,
     "start_time": "2023-01-07T16:48:56.614235",
     "status": "completed"
    },
    "tags": []
   },
   "outputs": [
    {
     "data": {
      "text/plain": [
       "default                    False\n",
       "idade                      False\n",
       "dependentes                False\n",
       "estado_civil                True\n",
       "tipo_cartao                False\n",
       "meses_de_relacionamento    False\n",
       "qtd_produtos               False\n",
       "iteracoes_12m              False\n",
       "meses_inativo_12m          False\n",
       "limite_credito             False\n",
       "valor_transacoes_12m       False\n",
       "qtd_transacoes_12m         False\n",
       "dtype: bool"
      ]
     },
     "execution_count": 8,
     "metadata": {},
     "output_type": "execute_result"
    }
   ],
   "source": [
    "df.isna().any()"
   ]
  },
  {
   "cell_type": "code",
   "execution_count": 9,
   "id": "6983ef68",
   "metadata": {
    "execution": {
     "iopub.execute_input": "2023-01-07T16:48:56.668813Z",
     "iopub.status.busy": "2023-01-07T16:48:56.668132Z",
     "iopub.status.idle": "2023-01-07T16:48:56.678461Z",
     "shell.execute_reply": "2023-01-07T16:48:56.677338Z"
    },
    "papermill": {
     "duration": 0.027374,
     "end_time": "2023-01-07T16:48:56.681698",
     "exception": false,
     "start_time": "2023-01-07T16:48:56.654324",
     "status": "completed"
    },
    "tags": []
   },
   "outputs": [],
   "source": [
    "df.dropna(inplace = True)"
   ]
  },
  {
   "cell_type": "markdown",
   "id": "e89d6627",
   "metadata": {
    "papermill": {
     "duration": 0.010789,
     "end_time": "2023-01-07T16:48:56.702743",
     "exception": false,
     "start_time": "2023-01-07T16:48:56.691954",
     "status": "completed"
    },
    "tags": []
   },
   "source": [
    "* Transformando os campos \"limite_credito\" e \"valor_transacoes_12m para float\n"
   ]
  },
  {
   "cell_type": "code",
   "execution_count": 10,
   "id": "9339ff9d",
   "metadata": {
    "execution": {
     "iopub.execute_input": "2023-01-07T16:48:56.725707Z",
     "iopub.status.busy": "2023-01-07T16:48:56.725101Z",
     "iopub.status.idle": "2023-01-07T16:48:56.744006Z",
     "shell.execute_reply": "2023-01-07T16:48:56.743204Z"
    },
    "papermill": {
     "duration": 0.033356,
     "end_time": "2023-01-07T16:48:56.746772",
     "exception": false,
     "start_time": "2023-01-07T16:48:56.713416",
     "status": "completed"
    },
    "tags": []
   },
   "outputs": [],
   "source": [
    "fn = lambda valor: float(valor.replace('.','').replace(',','.'))\n",
    "\n",
    "df['limite_credito'] = df['limite_credito'].apply(fn)\n",
    "df['valor_transacoes_12m'] = df['valor_transacoes_12m'].apply(fn)"
   ]
  },
  {
   "cell_type": "code",
   "execution_count": 11,
   "id": "ecc4a015",
   "metadata": {
    "execution": {
     "iopub.execute_input": "2023-01-07T16:48:56.770988Z",
     "iopub.status.busy": "2023-01-07T16:48:56.769231Z",
     "iopub.status.idle": "2023-01-07T16:48:56.778524Z",
     "shell.execute_reply": "2023-01-07T16:48:56.777724Z"
    },
    "papermill": {
     "duration": 0.024015,
     "end_time": "2023-01-07T16:48:56.780988",
     "exception": false,
     "start_time": "2023-01-07T16:48:56.756973",
     "status": "completed"
    },
    "tags": []
   },
   "outputs": [
    {
     "data": {
      "text/plain": [
       "default                      int64\n",
       "idade                        int64\n",
       "dependentes                  int64\n",
       "estado_civil                object\n",
       "tipo_cartao                 object\n",
       "meses_de_relacionamento      int64\n",
       "qtd_produtos                 int64\n",
       "iteracoes_12m                int64\n",
       "meses_inativo_12m            int64\n",
       "limite_credito             float64\n",
       "valor_transacoes_12m       float64\n",
       "qtd_transacoes_12m           int64\n",
       "dtype: object"
      ]
     },
     "execution_count": 11,
     "metadata": {},
     "output_type": "execute_result"
    }
   ],
   "source": [
    "df.dtypes"
   ]
  },
  {
   "cell_type": "markdown",
   "id": "c7f620fa",
   "metadata": {
    "papermill": {
     "duration": 0.009766,
     "end_time": "2023-01-07T16:48:56.802407",
     "exception": false,
     "start_time": "2023-01-07T16:48:56.792641",
     "status": "completed"
    },
    "tags": []
   },
   "source": [
    "* Verificando se os dados foram transformados"
   ]
  },
  {
   "cell_type": "code",
   "execution_count": 12,
   "id": "f9eb6852",
   "metadata": {
    "execution": {
     "iopub.execute_input": "2023-01-07T16:48:56.827819Z",
     "iopub.status.busy": "2023-01-07T16:48:56.827085Z",
     "iopub.status.idle": "2023-01-07T16:48:56.841630Z",
     "shell.execute_reply": "2023-01-07T16:48:56.840188Z"
    },
    "papermill": {
     "duration": 0.031452,
     "end_time": "2023-01-07T16:48:56.844410",
     "exception": false,
     "start_time": "2023-01-07T16:48:56.812958",
     "status": "completed"
    },
    "tags": []
   },
   "outputs": [
    {
     "data": {
      "text/html": [
       "<div>\n",
       "<style scoped>\n",
       "    .dataframe tbody tr th:only-of-type {\n",
       "        vertical-align: middle;\n",
       "    }\n",
       "\n",
       "    .dataframe tbody tr th {\n",
       "        vertical-align: top;\n",
       "    }\n",
       "\n",
       "    .dataframe thead th {\n",
       "        text-align: right;\n",
       "    }\n",
       "</style>\n",
       "<table border=\"1\" class=\"dataframe\">\n",
       "  <thead>\n",
       "    <tr style=\"text-align: right;\">\n",
       "      <th></th>\n",
       "      <th>default</th>\n",
       "      <th>idade</th>\n",
       "      <th>dependentes</th>\n",
       "      <th>estado_civil</th>\n",
       "      <th>tipo_cartao</th>\n",
       "      <th>meses_de_relacionamento</th>\n",
       "      <th>qtd_produtos</th>\n",
       "      <th>iteracoes_12m</th>\n",
       "      <th>meses_inativo_12m</th>\n",
       "      <th>limite_credito</th>\n",
       "      <th>valor_transacoes_12m</th>\n",
       "      <th>qtd_transacoes_12m</th>\n",
       "    </tr>\n",
       "  </thead>\n",
       "  <tbody>\n",
       "    <tr>\n",
       "      <th>0</th>\n",
       "      <td>0</td>\n",
       "      <td>45</td>\n",
       "      <td>3</td>\n",
       "      <td>casado</td>\n",
       "      <td>blue</td>\n",
       "      <td>39</td>\n",
       "      <td>5</td>\n",
       "      <td>3</td>\n",
       "      <td>1</td>\n",
       "      <td>12691.51</td>\n",
       "      <td>1144.90</td>\n",
       "      <td>42</td>\n",
       "    </tr>\n",
       "    <tr>\n",
       "      <th>1</th>\n",
       "      <td>0</td>\n",
       "      <td>49</td>\n",
       "      <td>5</td>\n",
       "      <td>solteiro</td>\n",
       "      <td>blue</td>\n",
       "      <td>44</td>\n",
       "      <td>6</td>\n",
       "      <td>2</td>\n",
       "      <td>1</td>\n",
       "      <td>8256.96</td>\n",
       "      <td>1291.45</td>\n",
       "      <td>33</td>\n",
       "    </tr>\n",
       "    <tr>\n",
       "      <th>2</th>\n",
       "      <td>0</td>\n",
       "      <td>51</td>\n",
       "      <td>3</td>\n",
       "      <td>casado</td>\n",
       "      <td>blue</td>\n",
       "      <td>36</td>\n",
       "      <td>4</td>\n",
       "      <td>0</td>\n",
       "      <td>1</td>\n",
       "      <td>3418.56</td>\n",
       "      <td>1887.72</td>\n",
       "      <td>20</td>\n",
       "    </tr>\n",
       "    <tr>\n",
       "      <th>4</th>\n",
       "      <td>0</td>\n",
       "      <td>40</td>\n",
       "      <td>3</td>\n",
       "      <td>casado</td>\n",
       "      <td>blue</td>\n",
       "      <td>21</td>\n",
       "      <td>5</td>\n",
       "      <td>0</td>\n",
       "      <td>1</td>\n",
       "      <td>4716.22</td>\n",
       "      <td>816.08</td>\n",
       "      <td>28</td>\n",
       "    </tr>\n",
       "    <tr>\n",
       "      <th>5</th>\n",
       "      <td>0</td>\n",
       "      <td>44</td>\n",
       "      <td>2</td>\n",
       "      <td>casado</td>\n",
       "      <td>blue</td>\n",
       "      <td>36</td>\n",
       "      <td>3</td>\n",
       "      <td>2</td>\n",
       "      <td>1</td>\n",
       "      <td>4010.69</td>\n",
       "      <td>1088.07</td>\n",
       "      <td>24</td>\n",
       "    </tr>\n",
       "  </tbody>\n",
       "</table>\n",
       "</div>"
      ],
      "text/plain": [
       "   default  idade  dependentes estado_civil tipo_cartao  \\\n",
       "0        0     45            3       casado        blue   \n",
       "1        0     49            5     solteiro        blue   \n",
       "2        0     51            3       casado        blue   \n",
       "4        0     40            3       casado        blue   \n",
       "5        0     44            2       casado        blue   \n",
       "\n",
       "   meses_de_relacionamento  qtd_produtos  iteracoes_12m  meses_inativo_12m  \\\n",
       "0                       39             5              3                  1   \n",
       "1                       44             6              2                  1   \n",
       "2                       36             4              0                  1   \n",
       "4                       21             5              0                  1   \n",
       "5                       36             3              2                  1   \n",
       "\n",
       "   limite_credito  valor_transacoes_12m  qtd_transacoes_12m  \n",
       "0        12691.51               1144.90                  42  \n",
       "1         8256.96               1291.45                  33  \n",
       "2         3418.56               1887.72                  20  \n",
       "4         4716.22                816.08                  28  \n",
       "5         4010.69               1088.07                  24  "
      ]
     },
     "execution_count": 12,
     "metadata": {},
     "output_type": "execute_result"
    }
   ],
   "source": [
    "df.head()"
   ]
  },
  {
   "cell_type": "markdown",
   "id": "968dd242",
   "metadata": {
    "papermill": {
     "duration": 0.010807,
     "end_time": "2023-01-07T16:48:56.865716",
     "exception": false,
     "start_time": "2023-01-07T16:48:56.854909",
     "status": "completed"
    },
    "tags": []
   },
   "source": [
    "* verificando quantidade de linhas e colunas"
   ]
  },
  {
   "cell_type": "code",
   "execution_count": 13,
   "id": "39c7f7c4",
   "metadata": {
    "execution": {
     "iopub.execute_input": "2023-01-07T16:48:56.890416Z",
     "iopub.status.busy": "2023-01-07T16:48:56.889781Z",
     "iopub.status.idle": "2023-01-07T16:48:56.896288Z",
     "shell.execute_reply": "2023-01-07T16:48:56.895440Z"
    },
    "papermill": {
     "duration": 0.021446,
     "end_time": "2023-01-07T16:48:56.898906",
     "exception": false,
     "start_time": "2023-01-07T16:48:56.877460",
     "status": "completed"
    },
    "tags": []
   },
   "outputs": [
    {
     "data": {
      "text/plain": [
       "(9378, 12)"
      ]
     },
     "execution_count": 13,
     "metadata": {},
     "output_type": "execute_result"
    }
   ],
   "source": [
    "df.shape"
   ]
  },
  {
   "cell_type": "markdown",
   "id": "01c4bea6",
   "metadata": {
    "papermill": {
     "duration": 0.011046,
     "end_time": "2023-01-07T16:48:56.920316",
     "exception": false,
     "start_time": "2023-01-07T16:48:56.909270",
     "status": "completed"
    },
    "tags": []
   },
   "source": [
    "* Verificando a quantidade e a porcentagem em questão de adimplentes e inadimplentes\n"
   ]
  },
  {
   "cell_type": "code",
   "execution_count": 14,
   "id": "787fc7a8",
   "metadata": {
    "execution": {
     "iopub.execute_input": "2023-01-07T16:48:56.944010Z",
     "iopub.status.busy": "2023-01-07T16:48:56.943598Z",
     "iopub.status.idle": "2023-01-07T16:48:56.957993Z",
     "shell.execute_reply": "2023-01-07T16:48:56.956944Z"
    },
    "papermill": {
     "duration": 0.029373,
     "end_time": "2023-01-07T16:48:56.960675",
     "exception": false,
     "start_time": "2023-01-07T16:48:56.931302",
     "status": "completed"
    },
    "tags": []
   },
   "outputs": [
    {
     "name": "stdout",
     "output_type": "stream",
     "text": [
      "A proporção de clientes adimplentes é de 83.93%\n",
      "A proporção de clientes inadimplentes é de 16.07%\n",
      "\n",
      " A nova proporção de clientes adimplentes é de 84.03%\n",
      "A nova proporção de clientes inadimplentes é de 15.97%\n"
     ]
    }
   ],
   "source": [
    "qtd_total_novo, _ = df.shape\n",
    "qtd_adimplentes_novo, _ = df[df['default'] == 0].shape\n",
    "qtd_inadimplentes_novo, _ = df[df['default'] == 1].shape\n",
    "\n",
    "print(f'A proporção de clientes adimplentes é de {round(100 * qtd_adimplentes / qtd_total, 2)}%')\n",
    "print(f'A proporção de clientes inadimplentes é de {round(100 * qtd_inadimplentes / qtd_total, 2)}%')\n",
    "print(f'\\n A nova proporção de clientes adimplentes é de {round(100 * qtd_adimplentes_novo / qtd_total_novo, 2)}%')\n",
    "print(f'A nova proporção de clientes inadimplentes é de {round(100 * qtd_inadimplentes_novo / qtd_total_novo, 2)}%')"
   ]
  },
  {
   "cell_type": "code",
   "execution_count": 15,
   "id": "6a0abe02",
   "metadata": {
    "execution": {
     "iopub.execute_input": "2023-01-07T16:48:56.987332Z",
     "iopub.status.busy": "2023-01-07T16:48:56.986315Z",
     "iopub.status.idle": "2023-01-07T16:48:57.016162Z",
     "shell.execute_reply": "2023-01-07T16:48:57.014658Z"
    },
    "papermill": {
     "duration": 0.046479,
     "end_time": "2023-01-07T16:48:57.019692",
     "exception": false,
     "start_time": "2023-01-07T16:48:56.973213",
     "status": "completed"
    },
    "tags": []
   },
   "outputs": [
    {
     "data": {
      "text/html": [
       "<div>\n",
       "<style scoped>\n",
       "    .dataframe tbody tr th:only-of-type {\n",
       "        vertical-align: middle;\n",
       "    }\n",
       "\n",
       "    .dataframe tbody tr th {\n",
       "        vertical-align: top;\n",
       "    }\n",
       "\n",
       "    .dataframe thead th {\n",
       "        text-align: right;\n",
       "    }\n",
       "</style>\n",
       "<table border=\"1\" class=\"dataframe\">\n",
       "  <thead>\n",
       "    <tr style=\"text-align: right;\">\n",
       "      <th></th>\n",
       "      <th>count</th>\n",
       "      <th>unique</th>\n",
       "      <th>top</th>\n",
       "      <th>freq</th>\n",
       "    </tr>\n",
       "  </thead>\n",
       "  <tbody>\n",
       "    <tr>\n",
       "      <th>estado_civil</th>\n",
       "      <td>9378</td>\n",
       "      <td>3</td>\n",
       "      <td>casado</td>\n",
       "      <td>4687</td>\n",
       "    </tr>\n",
       "    <tr>\n",
       "      <th>tipo_cartao</th>\n",
       "      <td>9378</td>\n",
       "      <td>4</td>\n",
       "      <td>blue</td>\n",
       "      <td>8753</td>\n",
       "    </tr>\n",
       "  </tbody>\n",
       "</table>\n",
       "</div>"
      ],
      "text/plain": [
       "             count unique     top  freq\n",
       "estado_civil  9378      3  casado  4687\n",
       "tipo_cartao   9378      4    blue  8753"
      ]
     },
     "execution_count": 15,
     "metadata": {},
     "output_type": "execute_result"
    }
   ],
   "source": [
    "df.select_dtypes('object').describe().transpose()"
   ]
  },
  {
   "cell_type": "code",
   "execution_count": 16,
   "id": "7c7e5ebb",
   "metadata": {
    "execution": {
     "iopub.execute_input": "2023-01-07T16:48:57.052066Z",
     "iopub.status.busy": "2023-01-07T16:48:57.051172Z",
     "iopub.status.idle": "2023-01-07T16:48:57.098765Z",
     "shell.execute_reply": "2023-01-07T16:48:57.096451Z"
    },
    "papermill": {
     "duration": 0.066957,
     "end_time": "2023-01-07T16:48:57.101816",
     "exception": false,
     "start_time": "2023-01-07T16:48:57.034859",
     "status": "completed"
    },
    "tags": []
   },
   "outputs": [
    {
     "data": {
      "text/html": [
       "<div>\n",
       "<style scoped>\n",
       "    .dataframe tbody tr th:only-of-type {\n",
       "        vertical-align: middle;\n",
       "    }\n",
       "\n",
       "    .dataframe tbody tr th {\n",
       "        vertical-align: top;\n",
       "    }\n",
       "\n",
       "    .dataframe thead th {\n",
       "        text-align: right;\n",
       "    }\n",
       "</style>\n",
       "<table border=\"1\" class=\"dataframe\">\n",
       "  <thead>\n",
       "    <tr style=\"text-align: right;\">\n",
       "      <th></th>\n",
       "      <th>count</th>\n",
       "      <th>mean</th>\n",
       "      <th>std</th>\n",
       "      <th>min</th>\n",
       "      <th>25%</th>\n",
       "      <th>50%</th>\n",
       "      <th>75%</th>\n",
       "      <th>max</th>\n",
       "    </tr>\n",
       "  </thead>\n",
       "  <tbody>\n",
       "    <tr>\n",
       "      <th>default</th>\n",
       "      <td>9378.0</td>\n",
       "      <td>0.159736</td>\n",
       "      <td>0.366380</td>\n",
       "      <td>0.00</td>\n",
       "      <td>0.0000</td>\n",
       "      <td>0.000</td>\n",
       "      <td>0.000</td>\n",
       "      <td>1.00</td>\n",
       "    </tr>\n",
       "    <tr>\n",
       "      <th>idade</th>\n",
       "      <td>9378.0</td>\n",
       "      <td>46.386436</td>\n",
       "      <td>8.099109</td>\n",
       "      <td>26.00</td>\n",
       "      <td>41.0000</td>\n",
       "      <td>46.000</td>\n",
       "      <td>52.000</td>\n",
       "      <td>73.00</td>\n",
       "    </tr>\n",
       "    <tr>\n",
       "      <th>dependentes</th>\n",
       "      <td>9378.0</td>\n",
       "      <td>2.330881</td>\n",
       "      <td>1.300375</td>\n",
       "      <td>0.00</td>\n",
       "      <td>1.0000</td>\n",
       "      <td>2.000</td>\n",
       "      <td>3.000</td>\n",
       "      <td>5.00</td>\n",
       "    </tr>\n",
       "    <tr>\n",
       "      <th>meses_de_relacionamento</th>\n",
       "      <td>9378.0</td>\n",
       "      <td>35.987417</td>\n",
       "      <td>8.042508</td>\n",
       "      <td>13.00</td>\n",
       "      <td>31.0000</td>\n",
       "      <td>36.000</td>\n",
       "      <td>41.000</td>\n",
       "      <td>56.00</td>\n",
       "    </tr>\n",
       "    <tr>\n",
       "      <th>qtd_produtos</th>\n",
       "      <td>9378.0</td>\n",
       "      <td>3.816699</td>\n",
       "      <td>1.548543</td>\n",
       "      <td>1.00</td>\n",
       "      <td>3.0000</td>\n",
       "      <td>4.000</td>\n",
       "      <td>5.000</td>\n",
       "      <td>6.00</td>\n",
       "    </tr>\n",
       "    <tr>\n",
       "      <th>iteracoes_12m</th>\n",
       "      <td>9378.0</td>\n",
       "      <td>2.458307</td>\n",
       "      <td>1.109462</td>\n",
       "      <td>0.00</td>\n",
       "      <td>2.0000</td>\n",
       "      <td>2.000</td>\n",
       "      <td>3.000</td>\n",
       "      <td>6.00</td>\n",
       "    </tr>\n",
       "    <tr>\n",
       "      <th>meses_inativo_12m</th>\n",
       "      <td>9378.0</td>\n",
       "      <td>2.342610</td>\n",
       "      <td>1.008347</td>\n",
       "      <td>0.00</td>\n",
       "      <td>2.0000</td>\n",
       "      <td>2.000</td>\n",
       "      <td>3.000</td>\n",
       "      <td>6.00</td>\n",
       "    </tr>\n",
       "    <tr>\n",
       "      <th>limite_credito</th>\n",
       "      <td>9378.0</td>\n",
       "      <td>8567.481925</td>\n",
       "      <td>9047.613446</td>\n",
       "      <td>1438.00</td>\n",
       "      <td>2543.3975</td>\n",
       "      <td>4489.900</td>\n",
       "      <td>10949.380</td>\n",
       "      <td>34516.99</td>\n",
       "    </tr>\n",
       "    <tr>\n",
       "      <th>valor_transacoes_12m</th>\n",
       "      <td>9378.0</td>\n",
       "      <td>4379.351832</td>\n",
       "      <td>3403.309307</td>\n",
       "      <td>510.16</td>\n",
       "      <td>2139.9675</td>\n",
       "      <td>3866.425</td>\n",
       "      <td>4731.475</td>\n",
       "      <td>18484.93</td>\n",
       "    </tr>\n",
       "    <tr>\n",
       "      <th>qtd_transacoes_12m</th>\n",
       "      <td>9378.0</td>\n",
       "      <td>64.675944</td>\n",
       "      <td>23.537658</td>\n",
       "      <td>10.00</td>\n",
       "      <td>45.0000</td>\n",
       "      <td>67.000</td>\n",
       "      <td>80.000</td>\n",
       "      <td>139.00</td>\n",
       "    </tr>\n",
       "  </tbody>\n",
       "</table>\n",
       "</div>"
      ],
      "text/plain": [
       "                          count         mean          std      min        25%  \\\n",
       "default                  9378.0     0.159736     0.366380     0.00     0.0000   \n",
       "idade                    9378.0    46.386436     8.099109    26.00    41.0000   \n",
       "dependentes              9378.0     2.330881     1.300375     0.00     1.0000   \n",
       "meses_de_relacionamento  9378.0    35.987417     8.042508    13.00    31.0000   \n",
       "qtd_produtos             9378.0     3.816699     1.548543     1.00     3.0000   \n",
       "iteracoes_12m            9378.0     2.458307     1.109462     0.00     2.0000   \n",
       "meses_inativo_12m        9378.0     2.342610     1.008347     0.00     2.0000   \n",
       "limite_credito           9378.0  8567.481925  9047.613446  1438.00  2543.3975   \n",
       "valor_transacoes_12m     9378.0  4379.351832  3403.309307   510.16  2139.9675   \n",
       "qtd_transacoes_12m       9378.0    64.675944    23.537658    10.00    45.0000   \n",
       "\n",
       "                              50%        75%       max  \n",
       "default                     0.000      0.000      1.00  \n",
       "idade                      46.000     52.000     73.00  \n",
       "dependentes                 2.000      3.000      5.00  \n",
       "meses_de_relacionamento    36.000     41.000     56.00  \n",
       "qtd_produtos                4.000      5.000      6.00  \n",
       "iteracoes_12m               2.000      3.000      6.00  \n",
       "meses_inativo_12m           2.000      3.000      6.00  \n",
       "limite_credito           4489.900  10949.380  34516.99  \n",
       "valor_transacoes_12m     3866.425   4731.475  18484.93  \n",
       "qtd_transacoes_12m         67.000     80.000    139.00  "
      ]
     },
     "execution_count": 16,
     "metadata": {},
     "output_type": "execute_result"
    }
   ],
   "source": [
    "df.select_dtypes('number').describe().transpose()"
   ]
  },
  {
   "cell_type": "markdown",
   "id": "83ed58bf",
   "metadata": {
    "papermill": {
     "duration": 0.010472,
     "end_time": "2023-01-07T16:48:57.123248",
     "exception": false,
     "start_time": "2023-01-07T16:48:57.112776",
     "status": "completed"
    },
    "tags": []
   },
   "source": [
    "## Análise com visualização dos dados"
   ]
  },
  {
   "cell_type": "code",
   "execution_count": 17,
   "id": "9342f0a0",
   "metadata": {
    "execution": {
     "iopub.execute_input": "2023-01-07T16:48:57.147377Z",
     "iopub.status.busy": "2023-01-07T16:48:57.146994Z",
     "iopub.status.idle": "2023-01-07T16:48:57.156337Z",
     "shell.execute_reply": "2023-01-07T16:48:57.154620Z"
    },
    "papermill": {
     "duration": 0.024614,
     "end_time": "2023-01-07T16:48:57.159373",
     "exception": false,
     "start_time": "2023-01-07T16:48:57.134759",
     "status": "completed"
    },
    "tags": []
   },
   "outputs": [],
   "source": [
    "sns.set_style(\"whitegrid\")\n",
    "\n",
    "df_adimplente = df[df['default'] == 0]\n",
    "df_inadimplente = df[df['default'] == 1]"
   ]
  },
  {
   "cell_type": "markdown",
   "id": "46a6a50d",
   "metadata": {
    "papermill": {
     "duration": 0.010397,
     "end_time": "2023-01-07T16:48:57.180502",
     "exception": false,
     "start_time": "2023-01-07T16:48:57.170105",
     "status": "completed"
    },
    "tags": []
   },
   "source": [
    "**Meses de Relacionamento**"
   ]
  },
  {
   "cell_type": "code",
   "execution_count": 18,
   "id": "be4d3133",
   "metadata": {
    "execution": {
     "iopub.execute_input": "2023-01-07T16:48:57.205676Z",
     "iopub.status.busy": "2023-01-07T16:48:57.205204Z",
     "iopub.status.idle": "2023-01-07T16:48:57.951049Z",
     "shell.execute_reply": "2023-01-07T16:48:57.948865Z"
    },
    "papermill": {
     "duration": 0.762072,
     "end_time": "2023-01-07T16:48:57.954112",
     "exception": false,
     "start_time": "2023-01-07T16:48:57.192040",
     "status": "completed"
    },
    "tags": []
   },
   "outputs": [
    {
     "data": {
      "image/png": "[encoded data removed]",
      "text/plain": [
       "<Figure size 1440x360 with 3 Axes>"
      ]
     },
     "metadata": {},
     "output_type": "display_data"
    }
   ],
   "source": [
    "coluna = 'meses_de_relacionamento'\n",
    "titulos = ['Mês de Relacionamento', 'Mês de Relacionamento - Adimplentes', 'Mês de Relacionamento - Inadimplentes']\n",
    "\n",
    "eixo = 0\n",
    "max_y = 0\n",
    "figura, eixos = plt.subplots(1,3, figsize=(20, 5), sharex=True)\n",
    "\n",
    "for dataframe in [df, df_adimplente, df_inadimplente]:\n",
    "\n",
    "  f = sns.histplot(x=coluna, data=dataframe, stat='count', ax=eixos[eixo])\n",
    "  f.set(title=titulos[eixo], xlabel=coluna.capitalize(), ylabel='Frequência Absoluta')\n",
    "\n",
    "  _, max_y_f = f.get_ylim()\n",
    "  max_y = max_y_f if max_y_f > max_y else max_y\n",
    "  f.set(ylim=(0, max_y))\n",
    "\n",
    "  eixo += 1\n",
    "\n",
    "figura.show()"
   ]
  },
  {
   "cell_type": "markdown",
   "id": "cf5b7754",
   "metadata": {
    "papermill": {
     "duration": 0.011248,
     "end_time": "2023-01-07T16:48:57.976855",
     "exception": false,
     "start_time": "2023-01-07T16:48:57.965607",
     "status": "completed"
    },
    "tags": []
   },
   "source": [
    "Clientes que possuem maior tempo de relacionamento com a instituição financeira, tendem a não cometer default."
   ]
  },
  {
   "cell_type": "markdown",
   "id": "11d287ec",
   "metadata": {
    "papermill": {
     "duration": 0.010988,
     "end_time": "2023-01-07T16:48:57.999182",
     "exception": false,
     "start_time": "2023-01-07T16:48:57.988194",
     "status": "completed"
    },
    "tags": []
   },
   "source": [
    "**Quantidade de produtos**"
   ]
  },
  {
   "cell_type": "code",
   "execution_count": 19,
   "id": "77e4b8fc",
   "metadata": {
    "execution": {
     "iopub.execute_input": "2023-01-07T16:48:58.023979Z",
     "iopub.status.busy": "2023-01-07T16:48:58.023600Z",
     "iopub.status.idle": "2023-01-07T16:48:58.705105Z",
     "shell.execute_reply": "2023-01-07T16:48:58.704276Z"
    },
    "papermill": {
     "duration": 0.69667,
     "end_time": "2023-01-07T16:48:58.707197",
     "exception": false,
     "start_time": "2023-01-07T16:48:58.010527",
     "status": "completed"
    },
    "tags": []
   },
   "outputs": [
    {
     "data": {
      "image/png": "[encoded data removed]",
      "text/plain": [
       "<Figure size 1440x360 with 3 Axes>"
      ]
     },
     "metadata": {},
     "output_type": "display_data"
    }
   ],
   "source": [
    "coluna = 'qtd_produtos'\n",
    "titulos = ['Quantidade de Produtos', 'Quantidade de Produtos - Adimplentes', 'Quantidade de Produtos- Inadimplentes']\n",
    "eixo = 0\n",
    "max_y = 0\n",
    "figura, eixos = plt.subplots(1,3, figsize=(20, 5), sharex=True)\n",
    "\n",
    "for dataframe in [df, df_adimplente, df_inadimplente]:\n",
    "\n",
    "  f = sns.histplot(x=coluna, data=dataframe, stat='count', ax=eixos[eixo])\n",
    "  f.set(title=titulos[eixo], xlabel=coluna.capitalize(), ylabel='Frequência Absoluta')\n",
    "\n",
    "  _, max_y_f = f.get_ylim()\n",
    "  max_y = max_y_f if max_y_f > max_y else max_y\n",
    "  f.set(ylim=(0, max_y))\n",
    "\n",
    "  eixo += 1\n",
    "\n",
    "figura.show()"
   ]
  },
  {
   "cell_type": "markdown",
   "id": "5d678d1a",
   "metadata": {
    "papermill": {
     "duration": 0.011096,
     "end_time": "2023-01-07T16:48:58.730883",
     "exception": false,
     "start_time": "2023-01-07T16:48:58.719787",
     "status": "completed"
    },
    "tags": []
   },
   "source": [
    "Clientes que não cometem default tendem a ser mais concentrados na dentro da categoria de 3 produtos com a instituição financeira."
   ]
  },
  {
   "cell_type": "markdown",
   "id": "e11b0715",
   "metadata": {
    "papermill": {
     "duration": 0.011014,
     "end_time": "2023-01-07T16:48:58.754443",
     "exception": false,
     "start_time": "2023-01-07T16:48:58.743429",
     "status": "completed"
    },
    "tags": []
   },
   "source": [
    "**Quantidade de iterações**\n"
   ]
  },
  {
   "cell_type": "code",
   "execution_count": 20,
   "id": "3e56690d",
   "metadata": {
    "execution": {
     "iopub.execute_input": "2023-01-07T16:48:58.779776Z",
     "iopub.status.busy": "2023-01-07T16:48:58.778539Z",
     "iopub.status.idle": "2023-01-07T16:48:59.592662Z",
     "shell.execute_reply": "2023-01-07T16:48:59.591013Z"
    },
    "papermill": {
     "duration": 0.830263,
     "end_time": "2023-01-07T16:48:59.595941",
     "exception": false,
     "start_time": "2023-01-07T16:48:58.765678",
     "status": "completed"
    },
    "tags": []
   },
   "outputs": [
    {
     "data": {
      "image/png": "[encoded data removed]",
      "text/plain": [
       "<Figure size 1440x360 with 3 Axes>"
      ]
     },
     "metadata": {},
     "output_type": "display_data"
    }
   ],
   "source": [
    "coluna = 'limite_credito'\n",
    "titulos = ['Limite de Crédito', 'Limite de Crédito- Adimplentes', 'Limite de Crédito - Inadimplentes']\n",
    "\n",
    "eixo = 0\n",
    "max_y = 0\n",
    "figura, eixos = plt.subplots(1,3, figsize=(20, 5), sharex=True)\n",
    "\n",
    "for dataframe in [df, df_adimplente, df_inadimplente]:\n",
    "\n",
    "  f = sns.histplot(x=coluna, data=dataframe, stat='count', ax=eixos[eixo])\n",
    "  f.set(title=titulos[eixo], xlabel=coluna.capitalize(), ylabel='Frequência Absoluta')\n",
    "\n",
    "  _, max_y_f = f.get_ylim()\n",
    "  max_y = max_y_f if max_y_f > max_y else max_y\n",
    "  f.set(ylim=(0, max_y))\n",
    "\n",
    "  eixo += 1\n",
    "\n",
    "figura.show()"
   ]
  },
  {
   "cell_type": "markdown",
   "id": "d8564222",
   "metadata": {
    "papermill": {
     "duration": 0.012001,
     "end_time": "2023-01-07T16:48:59.619989",
     "exception": false,
     "start_time": "2023-01-07T16:48:59.607988",
     "status": "completed"
    },
    "tags": []
   },
   "source": [
    "Clientes que possuem maiores limites de crédito tendem a não se tornarem default."
   ]
  },
  {
   "cell_type": "code",
   "execution_count": 21,
   "id": "1170c37b",
   "metadata": {
    "execution": {
     "iopub.execute_input": "2023-01-07T16:48:59.646158Z",
     "iopub.status.busy": "2023-01-07T16:48:59.645371Z",
     "iopub.status.idle": "2023-01-07T16:48:59.656143Z",
     "shell.execute_reply": "2023-01-07T16:48:59.654296Z"
    },
    "papermill": {
     "duration": 0.027441,
     "end_time": "2023-01-07T16:48:59.659213",
     "exception": false,
     "start_time": "2023-01-07T16:48:59.631772",
     "status": "completed"
    },
    "tags": []
   },
   "outputs": [],
   "source": [
    "df_tipo_cartao =df[df['tipo_cartao'] == 'silver']\n",
    "df_adimplente_silver = df_adimplente[df_adimplente['tipo_cartao'] == 'silver']\n",
    "df_inadimplente_silver = df_inadimplente[df_inadimplente['tipo_cartao'] == 'silver']"
   ]
  },
  {
   "cell_type": "code",
   "execution_count": 22,
   "id": "bb1c573a",
   "metadata": {
    "execution": {
     "iopub.execute_input": "2023-01-07T16:48:59.685357Z",
     "iopub.status.busy": "2023-01-07T16:48:59.684997Z",
     "iopub.status.idle": "2023-01-07T16:49:00.326206Z",
     "shell.execute_reply": "2023-01-07T16:49:00.324814Z"
    },
    "papermill": {
     "duration": 0.657348,
     "end_time": "2023-01-07T16:49:00.328603",
     "exception": false,
     "start_time": "2023-01-07T16:48:59.671255",
     "status": "completed"
    },
    "tags": []
   },
   "outputs": [
    {
     "data": {
      "image/png": "[encoded data removed]",
      "text/plain": [
       "<Figure size 1440x360 with 3 Axes>"
      ]
     },
     "metadata": {},
     "output_type": "display_data"
    }
   ],
   "source": [
    "coluna = 'qtd_transacoes_12m'\n",
    "titulos = ['Quantidade transações - silver', 'Quantidade transações de Adimplentes - silver', 'Quantidade transações de inadimplentes - silver']\n",
    "\n",
    "eixo = 0\n",
    "max_y = 0\n",
    "figura, eixos = plt.subplots(1,3, figsize=(20, 5), sharex=True)\n",
    "\n",
    "for dataframe in [df_tipo_cartao, df_adimplente_silver, df_inadimplente_silver]:\n",
    "\n",
    "  f = sns.histplot(x=coluna, data=dataframe, stat='count', ax=eixos[eixo])\n",
    "  f.set(title=titulos[eixo], xlabel=coluna.capitalize(), ylabel='Frequência Absoluta')\n",
    "\n",
    "  _, max_y_f = f.get_ylim()\n",
    "  max_y = max_y_f if max_y_f > max_y else max_y\n",
    "  f.set(ylim=(0, max_y))\n",
    "\n",
    "  eixo += 1\n",
    "\n",
    "figura.show()"
   ]
  },
  {
   "cell_type": "markdown",
   "id": "492ebd34",
   "metadata": {
    "papermill": {
     "duration": 0.012179,
     "end_time": "2023-01-07T16:49:00.353004",
     "exception": false,
     "start_time": "2023-01-07T16:49:00.340825",
     "status": "completed"
    },
    "tags": []
   },
   "source": [
    "Clientes que mais transacionam com o cartão platinum, tendem a ser mais adimplentes, à aqueles que menos trasacionam."
   ]
  },
  {
   "cell_type": "markdown",
   "id": "ae59d4bc",
   "metadata": {
    "papermill": {
     "duration": 0.01189,
     "end_time": "2023-01-07T16:49:00.377206",
     "exception": false,
     "start_time": "2023-01-07T16:49:00.365316",
     "status": "completed"
    },
    "tags": []
   },
   "source": [
    "## Insights"
   ]
  },
  {
   "cell_type": "markdown",
   "id": "936a2c12",
   "metadata": {
    "papermill": {
     "duration": 0.011946,
     "end_time": "2023-01-07T16:49:00.401769",
     "exception": false,
     "start_time": "2023-01-07T16:49:00.389823",
     "status": "completed"
    },
    "tags": []
   },
   "source": [
    "De acordo com a base de dados, foi realizada uma análise com base em alguns fundamentos. Segundo análises, foi traçado o perfil de clientes que podem ou não se tornarem default. Na análise observa-se que os clientes podem se tornar default na casa dos 37 meses de relacionamento, onde a maior proporção desses não se tornam inadimplentes. Observa-se também que clientes que possuem maiores limites de crédito, são os mais adimplentes da base, em contrapartida os clientes inadimplentes são os com menores limites. Podemos observar que clientes que mais transacionam com o cartão platinum, tendem a não cometer default."
   ]
  }
 ],
 "metadata": {
  "kernelspec": {
   "display_name": "Python 3",
   "language": "python",
   "name": "python3"
  },
  "language_info": {
   "codemirror_mode": {
    "name": "ipython",
    "version": 3
   },
   "file_extension": ".py",
   "mimetype": "text/x-python",
   "name": "python",
   "nbconvert_exporter": "python",
   "pygments_lexer": "ipython3",
   "version": "3.7.12"
  },
  "papermill": {
   "default_parameters": {},
   "duration": 15.268686,
   "end_time": "2023-01-07T16:49:01.239798",
   "environment_variables": {},
   "exception": null,
   "input_path": "__notebook__.ipynb",
   "output_path": "__notebook__.ipynb",
   "parameters": {},
   "start_time": "2023-01-07T16:48:45.971112",
   "version": "2.3.4"
  }
 },
 "nbformat": 4,
 "nbformat_minor": 5
}
